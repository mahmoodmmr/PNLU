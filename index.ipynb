{
 "cells": [
  {
   "cell_type": "code",
   "execution_count": 1,
   "metadata": {},
   "outputs": [
    {
     "name": "stdout",
     "output_type": "stream",
     "text": [
      "Requirement already satisfied: gpt_index in c:\\files\\dev\\boti\\testdeez\\venv\\lib\\site-packages (0.6.13)\n",
      "Requirement already satisfied: dataclasses-json in c:\\files\\dev\\boti\\testdeez\\venv\\lib\\site-packages (from gpt_index) (0.5.7)\n",
      "Requirement already satisfied: langchain>=0.0.154 in c:\\files\\dev\\boti\\testdeez\\venv\\lib\\site-packages (from gpt_index) (0.0.183)\n",
      "Requirement already satisfied: sqlalchemy>=2.0.15 in c:\\files\\dev\\boti\\testdeez\\venv\\lib\\site-packages (from gpt_index) (2.0.15)\n",
      "Requirement already satisfied: numpy in c:\\files\\dev\\boti\\testdeez\\venv\\lib\\site-packages (from gpt_index) (1.24.3)\n",
      "Requirement already satisfied: tenacity<9.0.0,>=8.2.0 in c:\\files\\dev\\boti\\testdeez\\venv\\lib\\site-packages (from gpt_index) (8.2.2)\n",
      "Requirement already satisfied: openai>=0.26.4 in c:\\files\\dev\\boti\\testdeez\\venv\\lib\\site-packages (from gpt_index) (0.27.7)\n",
      "Requirement already satisfied: pandas in c:\\files\\dev\\boti\\testdeez\\venv\\lib\\site-packages (from gpt_index) (2.0.1)\n",
      "Requirement already satisfied: urllib3<2 in c:\\files\\dev\\boti\\testdeez\\venv\\lib\\site-packages (from gpt_index) (1.26.16)\n",
      "Requirement already satisfied: fsspec>=2023.5.0 in c:\\files\\dev\\boti\\testdeez\\venv\\lib\\site-packages (from gpt_index) (2023.5.0)\n",
      "Requirement already satisfied: typing-inspect==0.8.0 in c:\\files\\dev\\boti\\testdeez\\venv\\lib\\site-packages (from gpt_index) (0.8.0)\n",
      "Requirement already satisfied: typing-extensions==4.5.0 in c:\\files\\dev\\boti\\testdeez\\venv\\lib\\site-packages (from gpt_index) (4.5.0)\n",
      "Requirement already satisfied: tiktoken in c:\\files\\dev\\boti\\testdeez\\venv\\lib\\site-packages (from gpt_index) (0.4.0)\n",
      "Requirement already satisfied: mypy-extensions>=0.3.0 in c:\\files\\dev\\boti\\testdeez\\venv\\lib\\site-packages (from typing-inspect==0.8.0->gpt_index) (1.0.0)\n",
      "Requirement already satisfied: PyYAML>=5.4.1 in c:\\files\\dev\\boti\\testdeez\\venv\\lib\\site-packages (from langchain>=0.0.154->gpt_index) (6.0)\n",
      "Requirement already satisfied: aiohttp<4.0.0,>=3.8.3 in c:\\files\\dev\\boti\\testdeez\\venv\\lib\\site-packages (from langchain>=0.0.154->gpt_index) (3.8.4)\n",
      "Requirement already satisfied: numexpr<3.0.0,>=2.8.4 in c:\\files\\dev\\boti\\testdeez\\venv\\lib\\site-packages (from langchain>=0.0.154->gpt_index) (2.8.4)\n",
      "Requirement already satisfied: openapi-schema-pydantic<2.0,>=1.2 in c:\\files\\dev\\boti\\testdeez\\venv\\lib\\site-packages (from langchain>=0.0.154->gpt_index) (1.2.4)\n",
      "Requirement already satisfied: pydantic<2,>=1 in c:\\files\\dev\\boti\\testdeez\\venv\\lib\\site-packages (from langchain>=0.0.154->gpt_index) (1.10.8)\n",
      "Requirement already satisfied: requests<3,>=2 in c:\\files\\dev\\boti\\testdeez\\venv\\lib\\site-packages (from langchain>=0.0.154->gpt_index) (2.31.0)\n",
      "Requirement already satisfied: marshmallow<4.0.0,>=3.3.0 in c:\\files\\dev\\boti\\testdeez\\venv\\lib\\site-packages (from dataclasses-json->gpt_index) (3.19.0)\n",
      "Requirement already satisfied: marshmallow-enum<2.0.0,>=1.5.1 in c:\\files\\dev\\boti\\testdeez\\venv\\lib\\site-packages (from dataclasses-json->gpt_index) (1.5.1)\n",
      "Requirement already satisfied: tqdm in c:\\files\\dev\\boti\\testdeez\\venv\\lib\\site-packages (from openai>=0.26.4->gpt_index) (4.65.0)\n",
      "Requirement already satisfied: greenlet!=0.4.17 in c:\\files\\dev\\boti\\testdeez\\venv\\lib\\site-packages (from sqlalchemy>=2.0.15->gpt_index) (2.0.2)\n",
      "Requirement already satisfied: python-dateutil>=2.8.2 in c:\\files\\dev\\boti\\testdeez\\venv\\lib\\site-packages (from pandas->gpt_index) (2.8.2)\n",
      "Requirement already satisfied: pytz>=2020.1 in c:\\files\\dev\\boti\\testdeez\\venv\\lib\\site-packages (from pandas->gpt_index) (2023.3)\n",
      "Requirement already satisfied: tzdata>=2022.1 in c:\\files\\dev\\boti\\testdeez\\venv\\lib\\site-packages (from pandas->gpt_index) (2023.3)\n",
      "Requirement already satisfied: regex>=2022.1.18 in c:\\files\\dev\\boti\\testdeez\\venv\\lib\\site-packages (from tiktoken->gpt_index) (2023.5.5)\n",
      "Requirement already satisfied: attrs>=17.3.0 in c:\\files\\dev\\boti\\testdeez\\venv\\lib\\site-packages (from aiohttp<4.0.0,>=3.8.3->langchain>=0.0.154->gpt_index) (23.1.0)\n",
      "Requirement already satisfied: charset-normalizer<4.0,>=2.0 in c:\\files\\dev\\boti\\testdeez\\venv\\lib\\site-packages (from aiohttp<4.0.0,>=3.8.3->langchain>=0.0.154->gpt_index) (3.1.0)\n",
      "Requirement already satisfied: multidict<7.0,>=4.5 in c:\\files\\dev\\boti\\testdeez\\venv\\lib\\site-packages (from aiohttp<4.0.0,>=3.8.3->langchain>=0.0.154->gpt_index) (6.0.4)\n",
      "Requirement already satisfied: async-timeout<5.0,>=4.0.0a3 in c:\\files\\dev\\boti\\testdeez\\venv\\lib\\site-packages (from aiohttp<4.0.0,>=3.8.3->langchain>=0.0.154->gpt_index) (4.0.2)\n",
      "Requirement already satisfied: yarl<2.0,>=1.0 in c:\\files\\dev\\boti\\testdeez\\venv\\lib\\site-packages (from aiohttp<4.0.0,>=3.8.3->langchain>=0.0.154->gpt_index) (1.9.2)\n",
      "Requirement already satisfied: frozenlist>=1.1.1 in c:\\files\\dev\\boti\\testdeez\\venv\\lib\\site-packages (from aiohttp<4.0.0,>=3.8.3->langchain>=0.0.154->gpt_index) (1.3.3)\n",
      "Requirement already satisfied: aiosignal>=1.1.2 in c:\\files\\dev\\boti\\testdeez\\venv\\lib\\site-packages (from aiohttp<4.0.0,>=3.8.3->langchain>=0.0.154->gpt_index) (1.3.1)\n",
      "Requirement already satisfied: packaging>=17.0 in c:\\files\\dev\\boti\\testdeez\\venv\\lib\\site-packages (from marshmallow<4.0.0,>=3.3.0->dataclasses-json->gpt_index) (23.1)\n",
      "Requirement already satisfied: six>=1.5 in c:\\files\\dev\\boti\\testdeez\\venv\\lib\\site-packages (from python-dateutil>=2.8.2->pandas->gpt_index) (1.16.0)\n",
      "Requirement already satisfied: idna<4,>=2.5 in c:\\files\\dev\\boti\\testdeez\\venv\\lib\\site-packages (from requests<3,>=2->langchain>=0.0.154->gpt_index) (3.4)\n",
      "Requirement already satisfied: certifi>=2017.4.17 in c:\\files\\dev\\boti\\testdeez\\venv\\lib\\site-packages (from requests<3,>=2->langchain>=0.0.154->gpt_index) (2023.5.7)\n",
      "Requirement already satisfied: colorama in c:\\files\\dev\\boti\\testdeez\\venv\\lib\\site-packages (from tqdm->openai>=0.26.4->gpt_index) (0.4.6)\n",
      "Requirement already satisfied: gpt-index in c:\\files\\dev\\boti\\testdeez\\venv\\lib\\site-packages (0.6.13)\n",
      "Requirement already satisfied: dataclasses-json in c:\\files\\dev\\boti\\testdeez\\venv\\lib\\site-packages (from gpt-index) (0.5.7)\n",
      "Requirement already satisfied: langchain>=0.0.154 in c:\\files\\dev\\boti\\testdeez\\venv\\lib\\site-packages (from gpt-index) (0.0.183)\n",
      "Requirement already satisfied: sqlalchemy>=2.0.15 in c:\\files\\dev\\boti\\testdeez\\venv\\lib\\site-packages (from gpt-index) (2.0.15)\n",
      "Requirement already satisfied: numpy in c:\\files\\dev\\boti\\testdeez\\venv\\lib\\site-packages (from gpt-index) (1.24.3)\n",
      "Requirement already satisfied: tenacity<9.0.0,>=8.2.0 in c:\\files\\dev\\boti\\testdeez\\venv\\lib\\site-packages (from gpt-index) (8.2.2)\n",
      "Requirement already satisfied: openai>=0.26.4 in c:\\files\\dev\\boti\\testdeez\\venv\\lib\\site-packages (from gpt-index) (0.27.7)\n",
      "Requirement already satisfied: pandas in c:\\files\\dev\\boti\\testdeez\\venv\\lib\\site-packages (from gpt-index) (2.0.1)\n",
      "Requirement already satisfied: urllib3<2 in c:\\files\\dev\\boti\\testdeez\\venv\\lib\\site-packages (from gpt-index) (1.26.16)\n",
      "Requirement already satisfied: fsspec>=2023.5.0 in c:\\files\\dev\\boti\\testdeez\\venv\\lib\\site-packages (from gpt-index) (2023.5.0)\n",
      "Requirement already satisfied: typing-inspect==0.8.0 in c:\\files\\dev\\boti\\testdeez\\venv\\lib\\site-packages (from gpt-index) (0.8.0)\n",
      "Requirement already satisfied: typing-extensions==4.5.0 in c:\\files\\dev\\boti\\testdeez\\venv\\lib\\site-packages (from gpt-index) (4.5.0)\n",
      "Requirement already satisfied: tiktoken in c:\\files\\dev\\boti\\testdeez\\venv\\lib\\site-packages (from gpt-index) (0.4.0)\n",
      "Requirement already satisfied: mypy-extensions>=0.3.0 in c:\\files\\dev\\boti\\testdeez\\venv\\lib\\site-packages (from typing-inspect==0.8.0->gpt-index) (1.0.0)\n",
      "Requirement already satisfied: PyYAML>=5.4.1 in c:\\files\\dev\\boti\\testdeez\\venv\\lib\\site-packages (from langchain>=0.0.154->gpt-index) (6.0)\n",
      "Requirement already satisfied: aiohttp<4.0.0,>=3.8.3 in c:\\files\\dev\\boti\\testdeez\\venv\\lib\\site-packages (from langchain>=0.0.154->gpt-index) (3.8.4)\n",
      "Requirement already satisfied: numexpr<3.0.0,>=2.8.4 in c:\\files\\dev\\boti\\testdeez\\venv\\lib\\site-packages (from langchain>=0.0.154->gpt-index) (2.8.4)\n",
      "Requirement already satisfied: openapi-schema-pydantic<2.0,>=1.2 in c:\\files\\dev\\boti\\testdeez\\venv\\lib\\site-packages (from langchain>=0.0.154->gpt-index) (1.2.4)\n",
      "Requirement already satisfied: pydantic<2,>=1 in c:\\files\\dev\\boti\\testdeez\\venv\\lib\\site-packages (from langchain>=0.0.154->gpt-index) (1.10.8)\n",
      "Requirement already satisfied: requests<3,>=2 in c:\\files\\dev\\boti\\testdeez\\venv\\lib\\site-packages (from langchain>=0.0.154->gpt-index) (2.31.0)\n",
      "Requirement already satisfied: marshmallow<4.0.0,>=3.3.0 in c:\\files\\dev\\boti\\testdeez\\venv\\lib\\site-packages (from dataclasses-json->gpt-index) (3.19.0)\n",
      "Requirement already satisfied: marshmallow-enum<2.0.0,>=1.5.1 in c:\\files\\dev\\boti\\testdeez\\venv\\lib\\site-packages (from dataclasses-json->gpt-index) (1.5.1)\n",
      "Requirement already satisfied: tqdm in c:\\files\\dev\\boti\\testdeez\\venv\\lib\\site-packages (from openai>=0.26.4->gpt-index) (4.65.0)\n",
      "Requirement already satisfied: greenlet!=0.4.17 in c:\\files\\dev\\boti\\testdeez\\venv\\lib\\site-packages (from sqlalchemy>=2.0.15->gpt-index) (2.0.2)\n",
      "Requirement already satisfied: python-dateutil>=2.8.2 in c:\\files\\dev\\boti\\testdeez\\venv\\lib\\site-packages (from pandas->gpt-index) (2.8.2)\n",
      "Requirement already satisfied: pytz>=2020.1 in c:\\files\\dev\\boti\\testdeez\\venv\\lib\\site-packages (from pandas->gpt-index) (2023.3)\n",
      "Requirement already satisfied: tzdata>=2022.1 in c:\\files\\dev\\boti\\testdeez\\venv\\lib\\site-packages (from pandas->gpt-index) (2023.3)\n",
      "Requirement already satisfied: regex>=2022.1.18 in c:\\files\\dev\\boti\\testdeez\\venv\\lib\\site-packages (from tiktoken->gpt-index) (2023.5.5)\n",
      "Requirement already satisfied: attrs>=17.3.0 in c:\\files\\dev\\boti\\testdeez\\venv\\lib\\site-packages (from aiohttp<4.0.0,>=3.8.3->langchain>=0.0.154->gpt-index) (23.1.0)\n",
      "Requirement already satisfied: charset-normalizer<4.0,>=2.0 in c:\\files\\dev\\boti\\testdeez\\venv\\lib\\site-packages (from aiohttp<4.0.0,>=3.8.3->langchain>=0.0.154->gpt-index) (3.1.0)\n",
      "Requirement already satisfied: multidict<7.0,>=4.5 in c:\\files\\dev\\boti\\testdeez\\venv\\lib\\site-packages (from aiohttp<4.0.0,>=3.8.3->langchain>=0.0.154->gpt-index) (6.0.4)\n",
      "Requirement already satisfied: async-timeout<5.0,>=4.0.0a3 in c:\\files\\dev\\boti\\testdeez\\venv\\lib\\site-packages (from aiohttp<4.0.0,>=3.8.3->langchain>=0.0.154->gpt-index) (4.0.2)\n",
      "Requirement already satisfied: yarl<2.0,>=1.0 in c:\\files\\dev\\boti\\testdeez\\venv\\lib\\site-packages (from aiohttp<4.0.0,>=3.8.3->langchain>=0.0.154->gpt-index) (1.9.2)\n",
      "Requirement already satisfied: frozenlist>=1.1.1 in c:\\files\\dev\\boti\\testdeez\\venv\\lib\\site-packages (from aiohttp<4.0.0,>=3.8.3->langchain>=0.0.154->gpt-index) (1.3.3)\n",
      "Requirement already satisfied: aiosignal>=1.1.2 in c:\\files\\dev\\boti\\testdeez\\venv\\lib\\site-packages (from aiohttp<4.0.0,>=3.8.3->langchain>=0.0.154->gpt-index) (1.3.1)\n",
      "Requirement already satisfied: packaging>=17.0 in c:\\files\\dev\\boti\\testdeez\\venv\\lib\\site-packages (from marshmallow<4.0.0,>=3.3.0->dataclasses-json->gpt-index) (23.1)\n",
      "Requirement already satisfied: six>=1.5 in c:\\files\\dev\\boti\\testdeez\\venv\\lib\\site-packages (from python-dateutil>=2.8.2->pandas->gpt-index) (1.16.0)\n",
      "Requirement already satisfied: idna<4,>=2.5 in c:\\files\\dev\\boti\\testdeez\\venv\\lib\\site-packages (from requests<3,>=2->langchain>=0.0.154->gpt-index) (3.4)\n",
      "Requirement already satisfied: certifi>=2017.4.17 in c:\\files\\dev\\boti\\testdeez\\venv\\lib\\site-packages (from requests<3,>=2->langchain>=0.0.154->gpt-index) (2023.5.7)\n",
      "Requirement already satisfied: colorama in c:\\files\\dev\\boti\\testdeez\\venv\\lib\\site-packages (from tqdm->openai>=0.26.4->gpt-index) (0.4.6)\n"
     ]
    }
   ],
   "source": [
    "!pip install gpt_index\n",
    "!pip install gpt-index"
   ]
  },
  {
   "cell_type": "code",
   "execution_count": 2,
   "metadata": {},
   "outputs": [
    {
     "name": "stdout",
     "output_type": "stream",
     "text": [
      "Requirement already satisfied: langchain in c:\\files\\dev\\boti\\testdeez\\venv\\lib\\site-packages (0.0.183)\n",
      "Requirement already satisfied: PyYAML>=5.4.1 in c:\\files\\dev\\boti\\testdeez\\venv\\lib\\site-packages (from langchain) (6.0)\n",
      "Requirement already satisfied: SQLAlchemy<3,>=1.4 in c:\\files\\dev\\boti\\testdeez\\venv\\lib\\site-packages (from langchain) (2.0.15)\n",
      "Requirement already satisfied: aiohttp<4.0.0,>=3.8.3 in c:\\files\\dev\\boti\\testdeez\\venv\\lib\\site-packages (from langchain) (3.8.4)\n",
      "Requirement already satisfied: dataclasses-json<0.6.0,>=0.5.7 in c:\\files\\dev\\boti\\testdeez\\venv\\lib\\site-packages (from langchain) (0.5.7)\n",
      "Requirement already satisfied: numexpr<3.0.0,>=2.8.4 in c:\\files\\dev\\boti\\testdeez\\venv\\lib\\site-packages (from langchain) (2.8.4)\n",
      "Requirement already satisfied: numpy<2,>=1 in c:\\files\\dev\\boti\\testdeez\\venv\\lib\\site-packages (from langchain) (1.24.3)\n",
      "Requirement already satisfied: openapi-schema-pydantic<2.0,>=1.2 in c:\\files\\dev\\boti\\testdeez\\venv\\lib\\site-packages (from langchain) (1.2.4)\n",
      "Requirement already satisfied: pydantic<2,>=1 in c:\\files\\dev\\boti\\testdeez\\venv\\lib\\site-packages (from langchain) (1.10.8)\n",
      "Requirement already satisfied: requests<3,>=2 in c:\\files\\dev\\boti\\testdeez\\venv\\lib\\site-packages (from langchain) (2.31.0)\n",
      "Requirement already satisfied: tenacity<9.0.0,>=8.1.0 in c:\\files\\dev\\boti\\testdeez\\venv\\lib\\site-packages (from langchain) (8.2.2)\n",
      "Requirement already satisfied: attrs>=17.3.0 in c:\\files\\dev\\boti\\testdeez\\venv\\lib\\site-packages (from aiohttp<4.0.0,>=3.8.3->langchain) (23.1.0)\n",
      "Requirement already satisfied: charset-normalizer<4.0,>=2.0 in c:\\files\\dev\\boti\\testdeez\\venv\\lib\\site-packages (from aiohttp<4.0.0,>=3.8.3->langchain) (3.1.0)\n",
      "Requirement already satisfied: multidict<7.0,>=4.5 in c:\\files\\dev\\boti\\testdeez\\venv\\lib\\site-packages (from aiohttp<4.0.0,>=3.8.3->langchain) (6.0.4)\n",
      "Requirement already satisfied: async-timeout<5.0,>=4.0.0a3 in c:\\files\\dev\\boti\\testdeez\\venv\\lib\\site-packages (from aiohttp<4.0.0,>=3.8.3->langchain) (4.0.2)\n",
      "Requirement already satisfied: yarl<2.0,>=1.0 in c:\\files\\dev\\boti\\testdeez\\venv\\lib\\site-packages (from aiohttp<4.0.0,>=3.8.3->langchain) (1.9.2)\n",
      "Requirement already satisfied: frozenlist>=1.1.1 in c:\\files\\dev\\boti\\testdeez\\venv\\lib\\site-packages (from aiohttp<4.0.0,>=3.8.3->langchain) (1.3.3)\n",
      "Requirement already satisfied: aiosignal>=1.1.2 in c:\\files\\dev\\boti\\testdeez\\venv\\lib\\site-packages (from aiohttp<4.0.0,>=3.8.3->langchain) (1.3.1)\n",
      "Requirement already satisfied: marshmallow<4.0.0,>=3.3.0 in c:\\files\\dev\\boti\\testdeez\\venv\\lib\\site-packages (from dataclasses-json<0.6.0,>=0.5.7->langchain) (3.19.0)\n",
      "Requirement already satisfied: marshmallow-enum<2.0.0,>=1.5.1 in c:\\files\\dev\\boti\\testdeez\\venv\\lib\\site-packages (from dataclasses-json<0.6.0,>=0.5.7->langchain) (1.5.1)\n",
      "Requirement already satisfied: typing-inspect>=0.4.0 in c:\\files\\dev\\boti\\testdeez\\venv\\lib\\site-packages (from dataclasses-json<0.6.0,>=0.5.7->langchain) (0.8.0)\n",
      "Requirement already satisfied: typing-extensions>=4.2.0 in c:\\files\\dev\\boti\\testdeez\\venv\\lib\\site-packages (from pydantic<2,>=1->langchain) (4.5.0)\n",
      "Requirement already satisfied: idna<4,>=2.5 in c:\\files\\dev\\boti\\testdeez\\venv\\lib\\site-packages (from requests<3,>=2->langchain) (3.4)\n",
      "Requirement already satisfied: urllib3<3,>=1.21.1 in c:\\files\\dev\\boti\\testdeez\\venv\\lib\\site-packages (from requests<3,>=2->langchain) (1.26.16)\n",
      "Requirement already satisfied: certifi>=2017.4.17 in c:\\files\\dev\\boti\\testdeez\\venv\\lib\\site-packages (from requests<3,>=2->langchain) (2023.5.7)\n",
      "Requirement already satisfied: greenlet!=0.4.17 in c:\\files\\dev\\boti\\testdeez\\venv\\lib\\site-packages (from SQLAlchemy<3,>=1.4->langchain) (2.0.2)\n",
      "Requirement already satisfied: packaging>=17.0 in c:\\files\\dev\\boti\\testdeez\\venv\\lib\\site-packages (from marshmallow<4.0.0,>=3.3.0->dataclasses-json<0.6.0,>=0.5.7->langchain) (23.1)\n",
      "Requirement already satisfied: mypy-extensions>=0.3.0 in c:\\files\\dev\\boti\\testdeez\\venv\\lib\\site-packages (from typing-inspect>=0.4.0->dataclasses-json<0.6.0,>=0.5.7->langchain) (1.0.0)\n"
     ]
    }
   ],
   "source": [
    "!pip install langchain"
   ]
  },
  {
   "cell_type": "code",
   "execution_count": 3,
   "metadata": {},
   "outputs": [
    {
     "name": "stderr",
     "output_type": "stream",
     "text": [
      "c:\\Files\\Dev\\BOTI\\TestDeez\\venv\\Lib\\site-packages\\tqdm\\auto.py:21: TqdmWarning: IProgress not found. Please update jupyter and ipywidgets. See https://ipywidgets.readthedocs.io/en/stable/user_install.html\n",
      "  from .autonotebook import tqdm as notebook_tqdm\n"
     ]
    }
   ],
   "source": [
    "from llama_index import SimpleDirectoryReader ,GPTListIndex,GPTVectorStoreIndex,LLMPredictor, PromptHelper\n",
    "from langchain import OpenAI\n",
    "import sys\n",
    "import os\n"
   ]
  },
  {
   "cell_type": "code",
   "execution_count": null,
   "metadata": {},
   "outputs": [],
   "source": [
    "os.environ[\"OPENAI_API_KEY\"]= \"\""
   ]
  },
  {
   "cell_type": "code",
   "execution_count": null,
   "metadata": {},
   "outputs": [],
   "source": [
    "def createVectorIndex(path):\n",
    "    max_input = 4096\n",
    "    tokens = 256\n",
    "    chunk_size = 600\n",
    "    max_chunk_overlap = 20\n",
    "    \n",
    "    prompt_helper = PromptHelper(max_input,tokens, max_chunk_overlap,chunk_size_limit=chunk_size)\n",
    "    \n",
    "    # define LLM\n",
    "    llmPredictor = LLMPredictor(llm=OpenAI(temperature=0, model_name=\"text-ada-001\", max_tokens=tokens))\n",
    "    \n",
    "    # load data\n",
    "    docs= SimpleDirectoryReader(path).load_data()\n",
    "    \n",
    "    # create vector index\n",
    "    vectorIndex = GPTVectorStoreIndex(documents=docs,llm_predictor=llmPredictor,prompt_helper=prompt_helper)\n",
    "    vectorIndex.save_to_disk('vectorIndex.json')\n",
    "    return vectorIndex"
   ]
  },
  {
   "cell_type": "code",
   "execution_count": null,
   "metadata": {},
   "outputs": [],
   "source": [
    "createVectorIndex = createVectorIndex('Knowledge')"
   ]
  }
 ],
 "metadata": {
  "kernelspec": {
   "display_name": "chatbot",
   "language": "python",
   "name": "python3"
  },
  "language_info": {
   "codemirror_mode": {
    "name": "ipython",
    "version": 3
   },
   "file_extension": ".py",
   "mimetype": "text/x-python",
   "name": "python",
   "nbconvert_exporter": "python",
   "pygments_lexer": "ipython3",
   "version": "3.11.3"
  },
  "orig_nbformat": 4
 },
 "nbformat": 4,
 "nbformat_minor": 2
}
